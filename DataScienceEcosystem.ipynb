{
 "cells": [
  {
   "cell_type": "markdown",
   "id": "33335e58-2822-4ba4-ac6e-fa7aa185a572",
   "metadata": {},
   "source": [
    "<h1> Data Science Tools and Ecosystem</h1>"
   ]
  },
  {
   "cell_type": "markdown",
   "id": "5d307635-2d74-42c8-b85b-071c2bf550c3",
   "metadata": {},
   "source": [
    "<em> In this notebook, Data Science Tools and Ecosystem are summarized. </em>"
   ]
  },
  {
   "cell_type": "markdown",
   "id": "21808102-b293-490e-b301-056f15a0131a",
   "metadata": {},
   "source": [
    "<p> Some of the popular languages that Data Scientists use are: </p>\n",
    "<ol type=1>\n",
    "    <li> Python </li>\n",
    "    <li> R Language</li>\n",
    "    <li> Java </li>\n",
    "    <li> Java Script</li>\n",
    "</ol>"
   ]
  },
  {
   "cell_type": "markdown",
   "id": "e581f2e0-d8e2-450c-85b7-a385f41aca14",
   "metadata": {},
   "source": [
    "<p> Some of the commonly used libraries used by Data Scientists include:</p>\n",
    "<ol type=1>\n",
    "    <li> Pandas</li>\n",
    "    <li> ggplot</li>\n",
    "    <li> Keras</li>\n",
    "    <li> Mplotlib</lib>\n",
    "</ol>"
   ]
  },
  {
   "cell_type": "markdown",
   "id": "9f0462e0-4aea-4d38-acc5-8b711437017c",
   "metadata": {},
   "source": [
    "<p> Table of Data Science tools</p>\n",
    "<table align=left border=1 solid>\n",
    "    <tr>\n",
    "        <th>Data Science Tools </th>\n",
    "    </tr>\n",
    "    <tr>\n",
    "        <td> Jupyter Notebook</td>\n",
    "    </tr>\n",
    "    <tr>\n",
    "        <td> IBM Watson </td>\n",
    "    </tr>\n",
    "    <tr>\n",
    "        <td> R Studios </td>\n",
    "    </tr>\n",
    "</table>"
   ]
  },
  {
   "cell_type": "markdown",
   "id": "c4944b85-9869-4a1f-b8df-1943946b835f",
   "metadata": {},
   "source": [
    "<h3>Below are a few examples of evaluating arithmetic expressions in Python </h3>\n"
   ]
  },
  {
   "cell_type": "code",
   "execution_count": 9,
   "id": "ff3af406-bba2-4575-8375-c706dd2f24ec",
   "metadata": {},
   "outputs": [
    {
     "name": "stdout",
     "output_type": "stream",
     "text": [
      "17\n"
     ]
    }
   ],
   "source": [
    "# This a simple arithmetic expression to mutiply then add integers\n",
    "print ((3*4) + 5)"
   ]
  },
  {
   "cell_type": "code",
   "execution_count": 23,
   "id": "5dc5b166-23d0-439a-80c5-0366b5c4834d",
   "metadata": {},
   "outputs": [
    {
     "name": "stdout",
     "output_type": "stream",
     "text": [
      "3.333 Minutes\n"
     ]
    }
   ],
   "source": [
    "# This will convert 200 minutes to hours by diving by 60\n",
    "def Convert_Mins_to_Hours():\n",
    "    print(str(round((200/60), 3)) +\" Minutes\")\n",
    "Convert_Mins_to_Hours()"
   ]
  },
  {
   "cell_type": "markdown",
   "id": "4b387a38-4188-4189-8085-dfdaeb6a2935",
   "metadata": {},
   "source": [
    "<p> Objectives:</p>\n",
    "<ul>\n",
    "    <li> List popular languages for Data Science</li>\n",
    "    <li> Commonly used libraries used by Data Scientists</li>\n",
    "    <li> Table of Data Science tools</li>\n",
    "    <li> Evaluating arithmetic expressions in Python </li>\n",
    "</ul>"
   ]
  },
  {
   "cell_type": "markdown",
   "id": "8d9022cb-5937-4ee5-8d09-0d77beb66f34",
   "metadata": {},
   "source": [
    "<h2>Author</h2>\n",
    "<p>Kok Sun Chia</p>"
   ]
  },
  {
   "cell_type": "code",
   "execution_count": null,
   "id": "0fe9022e-1cbb-4be6-a8bc-ea91516c60b3",
   "metadata": {},
   "outputs": [],
   "source": []
  }
 ],
 "metadata": {
  "kernelspec": {
   "display_name": "Python",
   "language": "python",
   "name": "conda-env-python-py"
  },
  "language_info": {
   "codemirror_mode": {
    "name": "ipython",
    "version": 3
   },
   "file_extension": ".py",
   "mimetype": "text/x-python",
   "name": "python",
   "nbconvert_exporter": "python",
   "pygments_lexer": "ipython3",
   "version": "3.7.12"
  }
 },
 "nbformat": 4,
 "nbformat_minor": 5
}
