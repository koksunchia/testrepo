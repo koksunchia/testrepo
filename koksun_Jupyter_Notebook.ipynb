{
 "cells": [
  {
   "cell_type": "markdown",
   "metadata": {},
   "source": [
    "<center>\n",
    "    <img src=\"https://cf-courses-data.s3.us.cloud-object-storage.appdomain.cloud/IBMDeveloperSkillsNetwork-DS0105EN-SkillsNetwork/labs/Module2/images/SN_web_lightmode.png\" width=\"300\" alt=\"cognitiveclass.ai logo\">\n",
    "</center>\n"
   ]
  },
  {
   "cell_type": "markdown",
   "metadata": {},
   "source": [
    "<H1>My Jupyter Notebook on IBM Watson Studio</H1>"
   ]
  },
  {
   "cell_type": "markdown",
   "metadata": {
    "tags": []
   },
   "source": [
    "<p><strong> Kok Sun Chia</strong></p>"
   ]
  },
  {
   "cell_type": "markdown",
   "metadata": {},
   "source": [
    "<em>I am interested in data science because it can transform the raw data to useful information and benefits to humankind. </em>"
   ]
  },
  {
   "cell_type": "markdown",
   "metadata": {},
   "source": [
    "<h3>The following code is to print the Sum of 2 integers</h3>"
   ]
  },
  {
   "cell_type": "code",
   "execution_count": 10,
   "metadata": {},
   "outputs": [
    {
     "name": "stdout",
     "output_type": "stream",
     "text": [
      "3\n"
     ]
    }
   ],
   "source": [
    "def print_sum_int(a,b):\n",
    "    print (int(a)+int(b))\n",
    "print_sum_int(1,2)"
   ]
  },
  {
   "cell_type": "markdown",
   "metadata": {},
   "source": [
    "<hr>\n",
    "<p> Things that I've learned from this tutorial:</p>\n",
    "<ul>\n",
    "    <li>Doing report using Jupyter notebook</li>\n",
    "    <li>Learn some HTML coding</li>\n",
    "</ul>\n",
    "<hr>\n",
    "<p>\n",
    "<table align=center>\n",
    "    <tr> \n",
    "        <th> Name</th>\n",
    "        <th> Data</th>\n",
    "    </tr>\n",
    "    <tr> \n",
    "        <td> Name 1</td>\n",
    "        <td> Data 1</td>\n",
    "    </tr>   \n",
    "    <tr> \n",
    "        <td> Name 2</td>\n",
    "        <td> Data 2</td>\n",
    "    </tr>  \n",
    "    <tr> \n",
    "        <td> Name 3</td>\n",
    "        <td> Data 3</td>\n",
    "    </tr>\n",
    "    <tr>\n",
    "        <td> Name 4</td>\n",
    "        <td> Data 4</td>\n",
    "    </tr>\n",
    "</table>\n",
    "\n",
    "<img src=\"https://www.ibm.com/brand/experience-guides/developer/8f4e3cc2b5d52354a6d43c8edba1e3c9/02_8-bar-reverse.svg\" alt=\"IBM Logo\" width=\"100\">\n",
    "\n",
    "<a href=\"www.ibm.com\">www.ibm.com</a>\n"
   ]
  }
 ],
 "metadata": {
  "kernelspec": {
   "display_name": "Python",
   "language": "python",
   "name": "conda-env-python-py"
  },
  "language_info": {
   "codemirror_mode": {
    "name": "ipython",
    "version": 3
   },
   "file_extension": ".py",
   "mimetype": "text/x-python",
   "name": "python",
   "nbconvert_exporter": "python",
   "pygments_lexer": "ipython3",
   "version": "3.7.12"
  }
 },
 "nbformat": 4,
 "nbformat_minor": 4
}
